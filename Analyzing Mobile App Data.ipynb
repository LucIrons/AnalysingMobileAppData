{
 "cells": [
  {
   "cell_type": "markdown",
   "id": "e3ef0da3",
   "metadata": {},
   "source": [
    "# Analyzing Mobile App Data\n",
    "\n",
    "Our aim is to help our developers understand what type of apps are likely to attract more users on Google Play and the App Store.\n",
    "\n",
    "With millions of apps currently available through these two app stores we will be using a sample to represent the population. We have a sample of around 10,000 Android apps from Google Play (collected August 2018), and 7,000 iOS apps from the App Store (collected July 2017).\n",
    "\n",
    "## Opening and Exploring the Data"
   ]
  },
  {
   "cell_type": "code",
   "execution_count": 1,
   "id": "68bb6b32",
   "metadata": {},
   "outputs": [],
   "source": [
    "from csv import reader\n",
    "\n",
    "# Get iOS Data \n",
    "opened_file = open('AppleStore.csv')\n",
    "read_file = reader(opened_file)\n",
    "ios = list(read_file)\n",
    "opened_file.close()\n",
    "\n",
    "# Get Android data\n",
    "opened_file = open('googleplaystore.csv')\n",
    "read_file = reader(opened_file)\n",
    "android = list(read_file)\n",
    "opened_file.close()\n",
    "\n",
    "# Function to make it easier to explore the data\n",
    "def explore_data(dataset, start, end, rows_and_columns=False):\n",
    "    dataset_slice = dataset[start:end]    \n",
    "    for row in dataset_slice:\n",
    "        print(row)\n",
    "        print('\\n') # adds a new (empty) line after each row\n",
    "\n",
    "    if rows_and_columns:\n",
    "        print('Number of rows:', len(dataset))\n",
    "        print('Number of columns:', len(dataset[0]))"
   ]
  },
  {
   "cell_type": "code",
   "execution_count": 2,
   "id": "2df99aed",
   "metadata": {},
   "outputs": [
    {
     "name": "stdout",
     "output_type": "stream",
     "text": [
      "['284882215', 'Facebook', '389879808', 'USD', '0.0', '2974676', '212', '3.5', '3.5', '95.0', '4+', 'Social Networking', '37', '1', '29', '1']\n",
      "\n",
      "\n",
      "['389801252', 'Instagram', '113954816', 'USD', '0.0', '2161558', '1289', '4.5', '4.0', '10.23', '12+', 'Photo & Video', '37', '0', '29', '1']\n",
      "\n",
      "\n",
      "['529479190', 'Clash of Clans', '116476928', 'USD', '0.0', '2130805', '579', '4.5', '4.5', '9.24.12', '9+', 'Games', '38', '5', '18', '1']\n",
      "\n",
      "\n",
      "['420009108', 'Temple Run', '65921024', 'USD', '0.0', '1724546', '3842', '4.5', '4.0', '1.6.2', '9+', 'Games', '40', '5', '1', '1']\n",
      "\n",
      "\n",
      "Number of rows: 7198\n",
      "Number of columns: 16\n"
     ]
    }
   ],
   "source": [
    "explore_data(ios, 1, 5, True)"
   ]
  },
  {
   "cell_type": "code",
   "execution_count": 3,
   "id": "01fe2afe",
   "metadata": {},
   "outputs": [
    {
     "name": "stdout",
     "output_type": "stream",
     "text": [
      "['Photo Editor & Candy Camera & Grid & ScrapBook', 'ART_AND_DESIGN', '4.1', '159', '19M', '10,000+', 'Free', '0', 'Everyone', 'Art & Design', 'January 7, 2018', '1.0.0', '4.0.3 and up']\n",
      "\n",
      "\n",
      "['Coloring book moana', 'ART_AND_DESIGN', '3.9', '967', '14M', '500,000+', 'Free', '0', 'Everyone', 'Art & Design;Pretend Play', 'January 15, 2018', '2.0.0', '4.0.3 and up']\n",
      "\n",
      "\n",
      "['U Launcher Lite – FREE Live Cool Themes, Hide Apps', 'ART_AND_DESIGN', '4.7', '87510', '8.7M', '5,000,000+', 'Free', '0', 'Everyone', 'Art & Design', 'August 1, 2018', '1.2.4', '4.0.3 and up']\n",
      "\n",
      "\n",
      "['Sketch - Draw & Paint', 'ART_AND_DESIGN', '4.5', '215644', '25M', '50,000,000+', 'Free', '0', 'Teen', 'Art & Design', 'June 8, 2018', 'Varies with device', '4.2 and up']\n",
      "\n",
      "\n",
      "Number of rows: 10842\n",
      "Number of columns: 13\n"
     ]
    }
   ],
   "source": [
    "explore_data(android, 1, 5, True)"
   ]
  },
  {
   "cell_type": "markdown",
   "id": "edcc0b38",
   "metadata": {},
   "source": [
    "Looking at the column names for each of the datasets:"
   ]
  },
  {
   "cell_type": "code",
   "execution_count": 4,
   "id": "0d707bad",
   "metadata": {},
   "outputs": [
    {
     "name": "stdout",
     "output_type": "stream",
     "text": [
      "id\n",
      "track_name\n",
      "size_bytes\n",
      "currency\n",
      "price\n",
      "rating_count_tot\n",
      "rating_count_ver\n",
      "user_rating\n",
      "user_rating_ver\n",
      "ver\n",
      "cont_rating\n",
      "prime_genre\n",
      "sup_devices.num\n",
      "ipadSc_urls.num\n",
      "lang.num\n",
      "vpp_lic\n"
     ]
    }
   ],
   "source": [
    "for column in ios[0]:\n",
    "    print(column)"
   ]
  },
  {
   "cell_type": "code",
   "execution_count": 5,
   "id": "fe7ff79c",
   "metadata": {},
   "outputs": [
    {
     "name": "stdout",
     "output_type": "stream",
     "text": [
      "App\n",
      "Category\n",
      "Rating\n",
      "Reviews\n",
      "Size\n",
      "Installs\n",
      "Type\n",
      "Price\n",
      "Content Rating\n",
      "Genres\n",
      "Last Updated\n",
      "Current Ver\n",
      "Android Ver\n"
     ]
    }
   ],
   "source": [
    "for column in android[0]:\n",
    "    print(column)"
   ]
  },
  {
   "cell_type": "markdown",
   "id": "ded8270b",
   "metadata": {},
   "source": [
    "## Deleting Wrong Data\n",
    "\n",
    "Before we can continue with an analysis of the data we need to clean the data. Some of these steps are general, such as removing duplicates. Other steps are more specific to our goals, eg removing paid apps (since our company is only interested in developing free to install apps). Our steps for cleaning our data are:\n",
    "\n",
    "- Detect inurate data, and correct or remove it.\n",
    "- Detect duplicate data, and remove duplicates.\n",
    "- Remove non-English apps\n",
    "- Remove apps that aren't free\n",
    "\n",
    "We know from the [kaggle discussion](https://www.kaggle.com/datasets/lava18/google-play-store-apps/discussion/164101) for the Google Play dataset that there is an error on row 10472 (header not included)."
   ]
  },
  {
   "cell_type": "code",
   "execution_count": 6,
   "id": "bffd80ab",
   "metadata": {},
   "outputs": [
    {
     "data": {
      "text/plain": [
       "['Life Made WI-Fi Touchscreen Photo Frame',\n",
       " '1.9',\n",
       " '19',\n",
       " '3.0M',\n",
       " '1,000+',\n",
       " 'Free',\n",
       " '0',\n",
       " 'Everyone',\n",
       " '',\n",
       " 'February 11, 2018',\n",
       " '1.0.19',\n",
       " '4.0 and up']"
      ]
     },
     "execution_count": 6,
     "metadata": {},
     "output_type": "execute_result"
    }
   ],
   "source": [
    "android[10473]"
   ]
  },
  {
   "cell_type": "markdown",
   "id": "96f522c0",
   "metadata": {},
   "source": [
    "We can see that `Category`, the second column, is missing and as such all the columns have shifted to the left leaving us with 12 data columns instead of 13. We will delete this row."
   ]
  },
  {
   "cell_type": "code",
   "execution_count": 7,
   "id": "c77f12c3",
   "metadata": {},
   "outputs": [],
   "source": [
    "if android[10473][0] == 'Life Made WI-Fi Touchscreen Photo Frame':\n",
    "    del android[10473]"
   ]
  },
  {
   "cell_type": "markdown",
   "id": "7f515b33",
   "metadata": {},
   "source": [
    "According to the discussions around the Apple dataset there do not seem to be any inaccurate rows.\n",
    "\n",
    "## Removing Duplicate Entries\n",
    "\n",
    "We will focus only on the Google Play store, since discussion around the ios dataset determine that there are no duplicates."
   ]
  },
  {
   "cell_type": "code",
   "execution_count": 8,
   "id": "6eac2507",
   "metadata": {},
   "outputs": [
    {
     "name": "stdout",
     "output_type": "stream",
     "text": [
      "Number of dupicate apps:  1181\n",
      "\n",
      "\n",
      "Example of duplicate apps:  ['Quick PDF Scanner + OCR FREE', 'Box', 'Google My Business', 'ZOOM Cloud Meetings', 'join.me - Simple Meetings', 'Box', 'Zenefits', 'Google Ads', 'Google My Business', 'Slack']\n"
     ]
    }
   ],
   "source": [
    "duplicate_apps = []\n",
    "unique_apps = []\n",
    "\n",
    "for app in android:\n",
    "    if app[0] in unique_apps:\n",
    "        duplicate_apps.append(app[0])\n",
    "    else:\n",
    "        unique_apps.append(app[0])\n",
    "        \n",
    "print('Number of dupicate apps: ', len(duplicate_apps))\n",
    "print('\\n')\n",
    "print('Example of duplicate apps: ', duplicate_apps[:10])"
   ]
  },
  {
   "cell_type": "code",
   "execution_count": 9,
   "id": "1be48610",
   "metadata": {},
   "outputs": [
    {
     "name": "stdout",
     "output_type": "stream",
     "text": [
      "['Instagram', 'SOCIAL', '4.5', '66577313', 'Varies with device', '1,000,000,000+', 'Free', '0', 'Teen', 'Social', 'July 31, 2018', 'Varies with device', 'Varies with device']\n",
      "['Instagram', 'SOCIAL', '4.5', '66577446', 'Varies with device', '1,000,000,000+', 'Free', '0', 'Teen', 'Social', 'July 31, 2018', 'Varies with device', 'Varies with device']\n",
      "['Instagram', 'SOCIAL', '4.5', '66577313', 'Varies with device', '1,000,000,000+', 'Free', '0', 'Teen', 'Social', 'July 31, 2018', 'Varies with device', 'Varies with device']\n",
      "['Instagram', 'SOCIAL', '4.5', '66509917', 'Varies with device', '1,000,000,000+', 'Free', '0', 'Teen', 'Social', 'July 31, 2018', 'Varies with device', 'Varies with device']\n"
     ]
    }
   ],
   "source": [
    "for app in android:\n",
    "    if app[0] == 'Instagram':\n",
    "        print(app)"
   ]
  },
  {
   "cell_type": "markdown",
   "id": "d7823569",
   "metadata": {},
   "source": [
    "We need a criterion to determine which of the duplicates to keep in the dataset. We will use the `reviews` column to determine which to keep, using the theory that the most recent version will have the largest number of reviews. Therefore, we will only keep the duplicate with the largest number of reviews and all others will be deleted."
   ]
  },
  {
   "cell_type": "code",
   "execution_count": 10,
   "id": "d6b91f46",
   "metadata": {},
   "outputs": [
    {
     "name": "stdout",
     "output_type": "stream",
     "text": [
      "Length of dictionary:  9659 \n",
      "\n",
      "Max reviews reviews_max['Instagram']\n"
     ]
    }
   ],
   "source": [
    "reviews_max = {}\n",
    "\n",
    "for app in android[1:]:\n",
    "    n_reviews = float(app[3])\n",
    "    name = app[0]\n",
    "    if (name in reviews_max) and (reviews_max[name] < n_reviews):\n",
    "        reviews_max[name] = n_reviews\n",
    "    elif name not in reviews_max:\n",
    "        reviews_max[name] = n_reviews\n",
    "        \n",
    "print(\"Length of dictionary: \",len(reviews_max), \"\\n\")\n",
    "print(\"Max reviews reviews_max['Instagram']\")"
   ]
  },
  {
   "cell_type": "markdown",
   "id": "069ccc94",
   "metadata": {},
   "source": [
    "We now have a dictionary where each unique app is the key and the value is the highest number of user reviews. We can use this dictionary to remove the duplicate entries."
   ]
  },
  {
   "cell_type": "code",
   "execution_count": 11,
   "id": "da671ff9",
   "metadata": {},
   "outputs": [
    {
     "name": "stdout",
     "output_type": "stream",
     "text": [
      "Length of clean dataset:  9659\n"
     ]
    },
    {
     "data": {
      "text/plain": [
       "[['Photo Editor & Candy Camera & Grid & ScrapBook',\n",
       "  'ART_AND_DESIGN',\n",
       "  '4.1',\n",
       "  '159',\n",
       "  '19M',\n",
       "  '10,000+',\n",
       "  'Free',\n",
       "  '0',\n",
       "  'Everyone',\n",
       "  'Art & Design',\n",
       "  'January 7, 2018',\n",
       "  '1.0.0',\n",
       "  '4.0.3 and up'],\n",
       " ['U Launcher Lite – FREE Live Cool Themes, Hide Apps',\n",
       "  'ART_AND_DESIGN',\n",
       "  '4.7',\n",
       "  '87510',\n",
       "  '8.7M',\n",
       "  '5,000,000+',\n",
       "  'Free',\n",
       "  '0',\n",
       "  'Everyone',\n",
       "  'Art & Design',\n",
       "  'August 1, 2018',\n",
       "  '1.2.4',\n",
       "  '4.0.3 and up'],\n",
       " ['Sketch - Draw & Paint',\n",
       "  'ART_AND_DESIGN',\n",
       "  '4.5',\n",
       "  '215644',\n",
       "  '25M',\n",
       "  '50,000,000+',\n",
       "  'Free',\n",
       "  '0',\n",
       "  'Teen',\n",
       "  'Art & Design',\n",
       "  'June 8, 2018',\n",
       "  'Varies with device',\n",
       "  '4.2 and up'],\n",
       " ['Pixel Draw - Number Art Coloring Book',\n",
       "  'ART_AND_DESIGN',\n",
       "  '4.3',\n",
       "  '967',\n",
       "  '2.8M',\n",
       "  '100,000+',\n",
       "  'Free',\n",
       "  '0',\n",
       "  'Everyone',\n",
       "  'Art & Design;Creativity',\n",
       "  'June 20, 2018',\n",
       "  '1.1',\n",
       "  '4.4 and up'],\n",
       " ['Paper flowers instructions',\n",
       "  'ART_AND_DESIGN',\n",
       "  '4.4',\n",
       "  '167',\n",
       "  '5.6M',\n",
       "  '50,000+',\n",
       "  'Free',\n",
       "  '0',\n",
       "  'Everyone',\n",
       "  'Art & Design',\n",
       "  'March 26, 2017',\n",
       "  '1.0',\n",
       "  '2.3 and up'],\n",
       " ['Smoke Effect Photo Maker - Smoke Editor',\n",
       "  'ART_AND_DESIGN',\n",
       "  '3.8',\n",
       "  '178',\n",
       "  '19M',\n",
       "  '50,000+',\n",
       "  'Free',\n",
       "  '0',\n",
       "  'Everyone',\n",
       "  'Art & Design',\n",
       "  'April 26, 2018',\n",
       "  '1.1',\n",
       "  '4.0.3 and up'],\n",
       " ['Infinite Painter',\n",
       "  'ART_AND_DESIGN',\n",
       "  '4.1',\n",
       "  '36815',\n",
       "  '29M',\n",
       "  '1,000,000+',\n",
       "  'Free',\n",
       "  '0',\n",
       "  'Everyone',\n",
       "  'Art & Design',\n",
       "  'June 14, 2018',\n",
       "  '6.1.61.1',\n",
       "  '4.2 and up'],\n",
       " ['Garden Coloring Book',\n",
       "  'ART_AND_DESIGN',\n",
       "  '4.4',\n",
       "  '13791',\n",
       "  '33M',\n",
       "  '1,000,000+',\n",
       "  'Free',\n",
       "  '0',\n",
       "  'Everyone',\n",
       "  'Art & Design',\n",
       "  'September 20, 2017',\n",
       "  '2.9.2',\n",
       "  '3.0 and up'],\n",
       " ['Kids Paint Free - Drawing Fun',\n",
       "  'ART_AND_DESIGN',\n",
       "  '4.7',\n",
       "  '121',\n",
       "  '3.1M',\n",
       "  '10,000+',\n",
       "  'Free',\n",
       "  '0',\n",
       "  'Everyone',\n",
       "  'Art & Design;Creativity',\n",
       "  'July 3, 2018',\n",
       "  '2.8',\n",
       "  '4.0.3 and up'],\n",
       " ['Text on Photo - Fonteee',\n",
       "  'ART_AND_DESIGN',\n",
       "  '4.4',\n",
       "  '13880',\n",
       "  '28M',\n",
       "  '1,000,000+',\n",
       "  'Free',\n",
       "  '0',\n",
       "  'Everyone',\n",
       "  'Art & Design',\n",
       "  'October 27, 2017',\n",
       "  '1.0.4',\n",
       "  '4.1 and up']]"
      ]
     },
     "execution_count": 11,
     "metadata": {},
     "output_type": "execute_result"
    }
   ],
   "source": [
    "android_clean=[]\n",
    "already_added=[]\n",
    "\n",
    "for app in android[1:]:\n",
    "    name = app[0]\n",
    "    n_reviews = float(app[3])\n",
    "    if (n_reviews == reviews_max[name]) and (name not in already_added):\n",
    "        android_clean.append(app)\n",
    "        already_added.append(name)\n",
    "        \n",
    "print(\"Length of clean dataset: \", len(android_clean))\n",
    "android_clean[:10]"
   ]
  },
  {
   "cell_type": "markdown",
   "id": "d1b80bb7",
   "metadata": {},
   "source": [
    "## Removing Non-English Apps\n",
    "\n",
    "Since our company mainly has an English speaking audience we want to remove any apps with non-English names from our dataset. We can do this by removing ann apps with names containing non-English characters. Each unicode character has an associated integer, which we can find using the `ord()` function. According to the ASCII (American Standard Code for Information Interchange) system, those characters associated with English text range between 0 and 127. We can use this as a criterion for determining if we should keep an app or not."
   ]
  },
  {
   "cell_type": "code",
   "execution_count": 12,
   "id": "a10d00cc",
   "metadata": {},
   "outputs": [
    {
     "name": "stdout",
     "output_type": "stream",
     "text": [
      "Is 'Instagram' english:  True\n",
      "Is'爱奇艺PPS -《欢乐颂2》电视剧热播' english:  False\n",
      "Is 'Docs To Go™ Free Office Suite' english:  False\n",
      "Is 'Instachat 😜' english:  False\n"
     ]
    }
   ],
   "source": [
    "def is_english(name):\n",
    "    for letter in name:\n",
    "        unicode = ord(letter)\n",
    "        if unicode > 127:\n",
    "            return False\n",
    "    return True\n",
    "\n",
    "# Testing\n",
    "print(\"Is 'Instagram' english: \", is_english('Instagram'))\n",
    "print(\"Is'爱奇艺PPS -《欢乐颂2》电视剧热播' english: \", is_english('爱奇艺PPS -《欢乐颂2》电视剧热播'))\n",
    "print(\"Is 'Docs To Go™ Free Office Suite' english: \", is_english('Docs To Go™ Free Office Suite'))\n",
    "print(\"Is 'Instachat 😜' english: \", is_english('Instachat 😜'))"
   ]
  },
  {
   "cell_type": "markdown",
   "id": "bf265c34",
   "metadata": {},
   "source": [
    "This function will remove apps that are english but with at least one non-standard character. We need to modify the function before we can use it. We will change it to allow up to 3 non-standard characters before it is classified as non-english."
   ]
  },
  {
   "cell_type": "code",
   "execution_count": 13,
   "id": "109e4ce8",
   "metadata": {},
   "outputs": [
    {
     "name": "stdout",
     "output_type": "stream",
     "text": [
      "Is 'Instagram' english:  True\n",
      "Is'爱奇艺PPS -《欢乐颂2》电视剧热播' english:  False\n",
      "Is 'Docs To Go™ Free Office Suite' english:  True\n",
      "Is 'Instachat 😜' english:  True\n"
     ]
    }
   ],
   "source": [
    "def is_english(name):\n",
    "    non_standard = 0\n",
    "    for letter in name:\n",
    "        unicode = ord(letter)\n",
    "        if unicode > 127:\n",
    "            non_standard += 1\n",
    "            if non_standard > 3:\n",
    "                return False\n",
    "    return True\n",
    "\n",
    "# Testing\n",
    "print(\"Is 'Instagram' english: \", is_english('Instagram'))\n",
    "print(\"Is'爱奇艺PPS -《欢乐颂2》电视剧热播' english: \", is_english('爱奇艺PPS -《欢乐颂2》电视剧热播'))\n",
    "print(\"Is 'Docs To Go™ Free Office Suite' english: \", is_english('Docs To Go™ Free Office Suite'))\n",
    "print(\"Is 'Instachat 😜' english: \", is_english('Instachat 😜'))"
   ]
  },
  {
   "cell_type": "code",
   "execution_count": 14,
   "id": "8516cfb5",
   "metadata": {},
   "outputs": [
    {
     "name": "stdout",
     "output_type": "stream",
     "text": [
      "Number of unique android apps with english text:  9614\n"
     ]
    }
   ],
   "source": [
    "android_clean_en = []\n",
    "\n",
    "for app in android_clean:\n",
    "    name = app[0]\n",
    "    if is_english(name):\n",
    "        android_clean_en.append(app)\n",
    "print(\"Number of unique android apps with english text: \", len(android_clean_en))"
   ]
  },
  {
   "cell_type": "code",
   "execution_count": 15,
   "id": "297b2026",
   "metadata": {},
   "outputs": [
    {
     "name": "stdout",
     "output_type": "stream",
     "text": [
      "Number of unique iOS apps with english text:  6183\n"
     ]
    }
   ],
   "source": [
    "ios_clean_en = []\n",
    "\n",
    "for app in ios[1:]:\n",
    "    name = app[1]\n",
    "    if is_english(name):\n",
    "        ios_clean_en.append(app)\n",
    "print(\"Number of unique iOS apps with english text: \", len(ios_clean_en))"
   ]
  },
  {
   "cell_type": "markdown",
   "id": "a65b6f48",
   "metadata": {},
   "source": [
    "## Isolating the Free Apps"
   ]
  },
  {
   "cell_type": "code",
   "execution_count": 16,
   "id": "48fb54a2",
   "metadata": {},
   "outputs": [
    {
     "name": "stdout",
     "output_type": "stream",
     "text": [
      "Number of unique free english text android apps:  8863\n"
     ]
    }
   ],
   "source": [
    "free_android_en = []\n",
    "\n",
    "for app in android_clean_en:\n",
    "    if app[6] == 'Free':\n",
    "        free_android_en.append(app)\n",
    "        \n",
    "print(\"Number of unique free english text android apps: \", len(free_android_en))"
   ]
  },
  {
   "cell_type": "code",
   "execution_count": 17,
   "id": "e9ad30bd",
   "metadata": {},
   "outputs": [
    {
     "name": "stdout",
     "output_type": "stream",
     "text": [
      "Number of unique free english text iOS apps:  3222\n"
     ]
    }
   ],
   "source": [
    "free_ios_en = []\n",
    "for app in ios_clean_en:\n",
    "    price = float(app[4])\n",
    "    if price == 0.0:\n",
    "        free_ios_en.append(app)\n",
    "        \n",
    "print(\"Number of unique free english text iOS apps: \", len(free_ios_en))"
   ]
  },
  {
   "cell_type": "markdown",
   "id": "f6cf1673",
   "metadata": {},
   "source": [
    "## Most Common Apps by Genre\n",
    "\n",
    "The end goal for the company is to have a new app that will be available on both the Google Play and App Store, so we need to find an app profile to fit both markets.\n",
    "\n",
    "To minimize risks and overhead, our validation strategy for an app idea is comprised of three steps:\n",
    "\n",
    "- Build a minimal Android version of the app, and add it to Google Play.\n",
    "- If the app has a good response from users, we develop it further.\n",
    "- If the app is profitable after six months, we build an iOS version of the app and add it to the App Store.\n",
    "\n",
    "We will start by looking at what the most common genres are, for which we will build frequency tables.\n",
    "\n",
    "- in the ios table `prime_genre` is at column index 11\n",
    "- in the android table `Genres` is at column index 9, and `Category` is at column index 1\n",
    "\n",
    "We will build a function to generate a frequency table that shows percentages and another to display the percentages in descending order (making it easy to identify the top genres)."
   ]
  },
  {
   "cell_type": "code",
   "execution_count": 18,
   "id": "8f778f2b",
   "metadata": {},
   "outputs": [
    {
     "data": {
      "text/plain": [
       "{'Social Networking': 2.038,\n",
       " 'Photo & Video': 5.515,\n",
       " 'Games': 54.86,\n",
       " 'Music': 2.216,\n",
       " 'Reference': 0.857,\n",
       " 'Health & Fitness': 2.669,\n",
       " 'Weather': 1.116,\n",
       " 'Utilities': 3.445,\n",
       " 'Travel': 0.97,\n",
       " 'Shopping': 1.375,\n",
       " 'News': 0.922,\n",
       " 'Navigation': 0.453,\n",
       " 'Lifestyle': 1.601,\n",
       " 'Entertainment': 7.262,\n",
       " 'Food & Drink': 0.712,\n",
       " 'Sports': 1.682,\n",
       " 'Book': 0.89,\n",
       " 'Finance': 0.792,\n",
       " 'Education': 6.631,\n",
       " 'Productivity': 2.717,\n",
       " 'Business': 0.857,\n",
       " 'Catalogs': 0.081,\n",
       " 'Medical': 0.34}"
      ]
     },
     "execution_count": 18,
     "metadata": {},
     "output_type": "execute_result"
    }
   ],
   "source": [
    "# Where index is the column index of interest\n",
    "def freq_table(dataset, index):\n",
    "    \n",
    "    f_table={}\n",
    "    n = len(dataset)\n",
    "    \n",
    "    for app in dataset:\n",
    "        key = app[index]\n",
    "        if key in f_table:\n",
    "            f_table[key] += 1\n",
    "        else:\n",
    "            f_table[key] = 1\n",
    "    for key in f_table:\n",
    "        f_table[key] /= n\n",
    "        f_table[key] *= 100\n",
    "        f_table[key] = round(f_table[key], 3)\n",
    "        \n",
    "    return f_table\n",
    "    \n",
    "# Test\n",
    "test = freq_table(ios_clean_en, 11)\n",
    "\n",
    "test"
   ]
  },
  {
   "cell_type": "markdown",
   "id": "e9a63990",
   "metadata": {},
   "source": [
    "This list is unordered and not easy to read at a glance. Which is why we need a second function to sort this in descending order."
   ]
  },
  {
   "cell_type": "code",
   "execution_count": 19,
   "id": "fb4dd893",
   "metadata": {},
   "outputs": [
    {
     "name": "stdout",
     "output_type": "stream",
     "text": [
      "Games : 54.86\n",
      "Entertainment : 7.262\n",
      "Education : 6.631\n",
      "Photo & Video : 5.515\n",
      "Utilities : 3.445\n",
      "Productivity : 2.717\n",
      "Health & Fitness : 2.669\n",
      "Music : 2.216\n",
      "Social Networking : 2.038\n",
      "Sports : 1.682\n",
      "Lifestyle : 1.601\n",
      "Shopping : 1.375\n",
      "Weather : 1.116\n",
      "Travel : 0.97\n",
      "News : 0.922\n",
      "Book : 0.89\n",
      "Reference : 0.857\n",
      "Business : 0.857\n",
      "Finance : 0.792\n",
      "Food & Drink : 0.712\n",
      "Navigation : 0.453\n",
      "Medical : 0.34\n",
      "Catalogs : 0.081\n"
     ]
    }
   ],
   "source": [
    "def display_table(dataset, index):\n",
    "    table = freq_table(dataset, index)\n",
    "    table_display = []\n",
    "    for key in table:\n",
    "        key_val_as_tuple = (table[key], key)\n",
    "        table_display.append(key_val_as_tuple)\n",
    "        \n",
    "    table_sorted = sorted(table_display, reverse = True)\n",
    "    for entry in table_sorted:\n",
    "        print(entry[1], ':', entry[0])\n",
    "\n",
    "# Display ordered freq table for ios genres\n",
    "display_table(ios_clean_en, 11)"
   ]
  },
  {
   "cell_type": "markdown",
   "id": "85bb101d",
   "metadata": {},
   "source": [
    "For the ios `prime_genre` column :\n",
    " - the most common genre (from the free english apps) are `Games` followed by `Entertainment` and `Education`, although the `Games` genre is considerably greater in number than either of the other two.\n",
    " - the top genres are for entertainment\n",
    " - whilst there are many `games` options we don't yet know how many of these have been downloaded and how many users there are.\n",
    " - if we recommend `games` there will be a lot of competition"
   ]
  },
  {
   "cell_type": "code",
   "execution_count": 20,
   "id": "496ec1c9",
   "metadata": {},
   "outputs": [
    {
     "name": "stdout",
     "output_type": "stream",
     "text": [
      "Tools : 8.602\n",
      "Entertainment : 5.794\n",
      "Education : 5.232\n",
      "Business : 4.358\n",
      "Medical : 4.109\n",
      "Personalization : 3.901\n",
      "Productivity : 3.88\n",
      "Lifestyle : 3.776\n",
      "Finance : 3.589\n",
      "Sports : 3.443\n",
      "Communication : 3.266\n",
      "Action : 3.11\n",
      "Health & Fitness : 2.996\n",
      "Photography : 2.912\n",
      "News & Magazines : 2.6\n",
      "Social : 2.486\n",
      "Travel & Local : 2.268\n",
      "Books & Reference : 2.268\n",
      "Shopping : 2.091\n",
      "Simulation : 1.976\n",
      "Arcade : 1.914\n",
      "Dating : 1.768\n",
      "Casual : 1.716\n",
      "Video Players & Editors : 1.675\n",
      "Maps & Navigation : 1.342\n",
      "Puzzle : 1.238\n",
      "Food & Drink : 1.165\n",
      "Role Playing : 1.082\n",
      "Strategy : 0.978\n",
      "Racing : 0.947\n",
      "Libraries & Demo : 0.874\n",
      "Auto & Vehicles : 0.874\n",
      "Weather : 0.822\n",
      "House & Home : 0.759\n",
      "Adventure : 0.749\n",
      "Events : 0.666\n",
      "Art & Design : 0.582\n",
      "Comics : 0.562\n",
      "Beauty : 0.551\n",
      "Card : 0.489\n",
      "Parenting : 0.478\n",
      "Board : 0.437\n",
      "Casino : 0.406\n",
      "Educational;Education : 0.395\n",
      "Trivia : 0.385\n",
      "Educational : 0.385\n",
      "Education;Education : 0.364\n",
      "Casual;Pretend Play : 0.26\n",
      "Word : 0.239\n",
      "Music : 0.198\n",
      "Puzzle;Brain Games : 0.177\n",
      "Education;Pretend Play : 0.177\n",
      "Racing;Action & Adventure : 0.166\n",
      "Entertainment;Music & Video : 0.156\n",
      "Board;Brain Games : 0.146\n",
      "Arcade;Action & Adventure : 0.146\n",
      "Educational;Pretend Play : 0.135\n",
      "Casual;Action & Adventure : 0.135\n",
      "Casual;Brain Games : 0.125\n",
      "Action;Action & Adventure : 0.125\n",
      "Simulation;Action & Adventure : 0.073\n",
      "Parenting;Education : 0.073\n",
      "Entertainment;Brain Games : 0.073\n",
      "Parenting;Music & Video : 0.062\n",
      "Educational;Brain Games : 0.062\n",
      "Education;Creativity : 0.062\n",
      "Casual;Creativity : 0.062\n",
      "Art & Design;Creativity : 0.062\n",
      "Educational;Creativity : 0.052\n",
      "Adventure;Action & Adventure : 0.052\n",
      "Sports;Action & Adventure : 0.042\n",
      "Role Playing;Pretend Play : 0.042\n",
      "Role Playing;Action & Adventure : 0.042\n",
      "Education;Brain Games : 0.042\n",
      "Education;Action & Adventure : 0.042\n",
      "Simulation;Pretend Play : 0.031\n",
      "Simulation;Education : 0.031\n",
      "Puzzle;Action & Adventure : 0.031\n",
      "Music;Music & Video : 0.031\n",
      "Entertainment;Creativity : 0.031\n",
      "Entertainment;Action & Adventure : 0.031\n",
      "Educational;Action & Adventure : 0.031\n",
      "Education;Music & Video : 0.031\n",
      "Casual;Education : 0.031\n",
      "Board;Action & Adventure : 0.031\n",
      "Video Players & Editors;Music & Video : 0.021\n",
      "Strategy;Action & Adventure : 0.021\n",
      "Puzzle;Creativity : 0.021\n",
      "Entertainment;Pretend Play : 0.021\n",
      "Card;Action & Adventure : 0.021\n",
      "Books & Reference;Education : 0.021\n",
      "Video Players & Editors;Creativity : 0.01\n",
      "Trivia;Education : 0.01\n",
      "Travel & Local;Action & Adventure : 0.01\n",
      "Tools;Education : 0.01\n",
      "Strategy;Education : 0.01\n",
      "Strategy;Creativity : 0.01\n",
      "Role Playing;Education : 0.01\n",
      "Role Playing;Brain Games : 0.01\n",
      "Racing;Pretend Play : 0.01\n",
      "Puzzle;Education : 0.01\n",
      "Parenting;Brain Games : 0.01\n",
      "Music & Audio;Music & Video : 0.01\n",
      "Lifestyle;Pretend Play : 0.01\n",
      "Lifestyle;Education : 0.01\n",
      "Health & Fitness;Education : 0.01\n",
      "Health & Fitness;Action & Adventure : 0.01\n",
      "Entertainment;Education : 0.01\n",
      "Communication;Creativity : 0.01\n",
      "Comics;Creativity : 0.01\n",
      "Casual;Music & Video : 0.01\n",
      "Books & Reference;Creativity : 0.01\n",
      "Board;Pretend Play : 0.01\n",
      "Art & Design;Pretend Play : 0.01\n",
      "Art & Design;Action & Adventure : 0.01\n",
      "Arcade;Pretend Play : 0.01\n",
      "Adventure;Education : 0.01\n",
      "Adventure;Brain Games : 0.01\n"
     ]
    }
   ],
   "source": [
    "# Display ordered freq table for android genres\n",
    "display_table(android_clean_en, 9)"
   ]
  },
  {
   "cell_type": "code",
   "execution_count": 21,
   "id": "d4df8dab-135b-4635-81a4-871fb6c8a778",
   "metadata": {},
   "outputs": [
    {
     "name": "stdout",
     "output_type": "stream",
     "text": [
      "FAMILY : 19.326\n",
      "GAME : 9.819\n",
      "TOOLS : 8.612\n",
      "BUSINESS : 4.358\n",
      "MEDICAL : 4.109\n",
      "PERSONALIZATION : 3.901\n",
      "PRODUCTIVITY : 3.88\n",
      "LIFESTYLE : 3.786\n",
      "FINANCE : 3.589\n",
      "SPORTS : 3.38\n",
      "COMMUNICATION : 3.266\n",
      "HEALTH_AND_FITNESS : 2.996\n",
      "PHOTOGRAPHY : 2.912\n",
      "NEWS_AND_MAGAZINES : 2.6\n",
      "SOCIAL : 2.486\n",
      "TRAVEL_AND_LOCAL : 2.278\n",
      "BOOKS_AND_REFERENCE : 2.268\n",
      "SHOPPING : 2.091\n",
      "DATING : 1.768\n",
      "VIDEO_PLAYERS : 1.695\n",
      "MAPS_AND_NAVIGATION : 1.342\n",
      "FOOD_AND_DRINK : 1.165\n",
      "EDUCATION : 1.103\n",
      "ENTERTAINMENT : 0.905\n",
      "LIBRARIES_AND_DEMO : 0.874\n",
      "AUTO_AND_VEHICLES : 0.874\n",
      "WEATHER : 0.822\n",
      "HOUSE_AND_HOME : 0.759\n",
      "EVENTS : 0.666\n",
      "PARENTING : 0.624\n",
      "ART_AND_DESIGN : 0.624\n",
      "COMICS : 0.572\n",
      "BEAUTY : 0.551\n"
     ]
    }
   ],
   "source": [
    "# Display ordered frequency table for android categories\n",
    "display_table(android_clean_en, 1)"
   ]
  },
  {
   "cell_type": "markdown",
   "id": "424490d1-87d4-4b28-a8a3-0bcda6e4cd3b",
   "metadata": {},
   "source": [
    "For the android `genre` column:\n",
    "- Highly granular with no one genre dominating the list\n",
    "- games have been divided into different genres such as `Action`, `Simulation`, `Arcade`\n",
    "- The top genre is `Tools` at 8.6%\n",
    "- There are sub-genres, depicted with a `;`, such as `Simulation;Pretend play`\n",
    "The android `categories` column:\n",
    "- Easier to read (and more comparable to the iOS `genres`)\n",
    "- The top category is `FAMILY` with 19.4%, followed by `GAME` with 9.8%\n",
    "- `FAMILY` comprises different types of apps including games and other types of entertainment that are age-appropriate for children.\n",
    "- `TOOLS` have the same share as in the genres column at 8.6%\n",
    "\n",
    "Again, these tables just tells us how many apps are available, not how many people have downloaded, installed and use them.\n",
    "\n",
    "##  Most Popular Apps by Genre on the App Store\n",
    "\n",
    "Our iOS dataset does not provide us with the number of installs for each app, so we will use the number of user ratings instead. We will extract this from the table using nested loops and look to see if we can make a recommendation based on this."
   ]
  },
  {
   "cell_type": "code",
   "execution_count": 22,
   "id": "79da7759-49ad-4fd3-b842-b229654f7165",
   "metadata": {},
   "outputs": [
    {
     "name": "stdout",
     "output_type": "stream",
     "text": [
      "Average number of ratings per iOS genre: \n",
      "\n",
      "Social Networking :  60254\n",
      "Photo & Video :  14689\n",
      "Games :  15587\n",
      "Music :  29047\n",
      "Reference :  27037\n",
      "Health & Fitness :  10802\n",
      "Weather :  23145\n",
      "Utilities :  7928\n",
      "Travel :  19030\n",
      "Shopping :  26635\n",
      "News :  16980\n",
      "Navigation :  19371\n",
      "Lifestyle :  8930\n",
      "Entertainment :  8862\n",
      "Food & Drink :  19934\n",
      "Sports :  15351\n",
      "Book :  10359\n",
      "Finance :  23354\n",
      "Education :  2472\n",
      "Productivity :  8508\n",
      "Business :  5149\n",
      "Catalogs :  3465\n",
      "Medical :  649\n"
     ]
    }
   ],
   "source": [
    "ios_genres = freq_table(ios_clean_en, 11)\n",
    "print(\"Average number of ratings per iOS genre: \\n\")\n",
    "for genre in ios_genres:\n",
    "    # Initialise variables\n",
    "    total=0\n",
    "    len_genre=0\n",
    "    for app in ios_clean_en:\n",
    "        genre_app = app[11]\n",
    "        if genre_app == genre:\n",
    "            n_ratings = float(app[5])\n",
    "            total += n_ratings\n",
    "            len_genre += 1\n",
    "    avg_rating = round(total / len_genre)\n",
    "    print(genre, \": \", avg_rating)\n"
   ]
  },
  {
   "cell_type": "markdown",
   "id": "1eb49028-0f97-4c27-a01e-16af5c9b18da",
   "metadata": {},
   "source": [
    "`Social Networking`, `Music`, and `Reference` are our top most downloaded apps from the App Store. Despite being the most populuous genre, `Games` has only quarter of the number of `Social Networking` user ratings on average."
   ]
  },
  {
   "cell_type": "markdown",
   "id": "c2cf4ca8-104b-4445-8e26-aa1927630937",
   "metadata": {},
   "source": [
    "There are many different criteria we could use to select a genre, but one way to select would be:\n",
    "- Popular genre (high number of user ratings)\n",
    "- Gap in the market (low number of currently available apps)"
   ]
  },
  {
   "cell_type": "code",
   "execution_count": 23,
   "id": "e1f40d40-0507-4bd6-b523-9735740112e1",
   "metadata": {},
   "outputs": [
    {
     "name": "stdout",
     "output_type": "stream",
     "text": [
      "Selecting only the most rated apps (with over 20000 ratings on average):\n",
      "Social Networking :  60254\n",
      "Music :  29047\n",
      "Reference :  27037\n",
      "Weather :  23145\n",
      "Shopping :  26635\n",
      "Finance :  23354\n"
     ]
    }
   ],
   "source": [
    "print(\"Selecting only the most rated apps (with over 20000 ratings on average):\"\n",
    "     )\n",
    "for genre in ios_genres:\n",
    "    # Initialise variables\n",
    "    total=0\n",
    "    len_genre=0\n",
    "    for app in ios_clean_en:\n",
    "        genre_app = app[11]\n",
    "        if genre_app == genre:\n",
    "            n_ratings = float(app[5])\n",
    "            total += n_ratings\n",
    "            len_genre += 1\n",
    "    avg_rating = round(total / len_genre)\n",
    "    if avg_rating > 20000:\n",
    "        print(genre, \": \", avg_rating)"
   ]
  },
  {
   "cell_type": "code",
   "execution_count": 53,
   "id": "77b0f7c1-4856-40ed-b870-3f5bf6aaa1c3",
   "metadata": {},
   "outputs": [
    {
     "name": "stdout",
     "output_type": "stream",
     "text": [
      "Least available genres for app market (less than 2% share of the store):\n",
      "Reference :  0.857\n",
      "Weather :  1.116\n",
      "Travel :  0.97\n",
      "Shopping :  1.375\n",
      "News :  0.922\n",
      "Navigation :  0.453\n",
      "Lifestyle :  1.601\n",
      "Food & Drink :  0.712\n",
      "Sports :  1.682\n",
      "Book :  0.89\n",
      "Finance :  0.792\n",
      "Business :  0.857\n",
      "Catalogs :  0.081\n",
      "Medical :  0.34\n"
     ]
    }
   ],
   "source": [
    "print(\"Least available genres for app market (less than 2% share of the store):\")\n",
    "\n",
    "for genre in ios_genres:\n",
    "    if ios_genres[genre] < 2.0:\n",
    "        print(genre, \": \", ios_genres[genre])"
   ]
  },
  {
   "cell_type": "markdown",
   "id": "2a8a70c4-d209-4507-a040-ac035e42d440",
   "metadata": {},
   "source": [
    "From our two selections we cross-match and recommend the following:\n",
    "- `Reference`\n",
    "- `Weather`\n",
    "- `Shopping`\n",
    "- `Finance`\n",
    "  \n",
    "## Most Popular Apps by Genre on Google Play\n",
    "\n",
    "We will use the `category` column rather than genres for this analysis."
   ]
  },
  {
   "cell_type": "code",
   "execution_count": 52,
   "id": "b57be254-d488-427b-ba0b-8eab6969b0f2",
   "metadata": {},
   "outputs": [
    {
     "name": "stdout",
     "output_type": "stream",
     "text": [
      "BOOKS_AND_REFERENCE :  7641778\n",
      "COMMUNICATION :  35153714\n",
      "ENTERTAINMENT :  11375402\n",
      "GAME :  14256218\n",
      "SOCIAL :  22961790\n",
      "SHOPPING :  6966909\n",
      "PHOTOGRAPHY :  16636241\n",
      "TRAVEL_AND_LOCAL :  13218663\n",
      "TOOLS :  9785955\n",
      "PERSONALIZATION :  4086652\n",
      "PRODUCTIVITY :  15530942\n",
      "WEATHER :  4570893\n",
      "VIDEO_PLAYERS :  24121489\n",
      "NEWS_AND_MAGAZINES :  9472807\n"
     ]
    }
   ],
   "source": [
    "android_cats = freq_table(android_clean_en, 1)\n",
    "\n",
    "for category in android_cats:\n",
    "    # Initialise variables\n",
    "    total=0\n",
    "    len_category=0\n",
    "    for app in android_clean_en:\n",
    "        category_app = app[1]\n",
    "        if category_app == category:\n",
    "            n_installs = app[5]\n",
    "            n_installs = n_installs.replace(\"+\", \"\")\n",
    "            n_installs = n_installs.replace(\",\", \"\")\n",
    "            n_installs = float(n_installs)\n",
    "            total += n_installs\n",
    "            len_category += 1\n",
    "            \n",
    "    avg_installs = round(total / len_category)\n",
    "    if avg_installs > 4000000: # greater than 4M\n",
    "        print(category, \": \", avg_installs)"
   ]
  },
  {
   "cell_type": "markdown",
   "id": "43ddef92-cfe6-47f1-b428-e3150d44ee76",
   "metadata": {},
   "source": [
    "The list above is only displaying the categories that have on average more than 4M installs. Using the same criteria as with the iOS dataset we can compare the following table:"
   ]
  },
  {
   "cell_type": "code",
   "execution_count": 48,
   "id": "04f07214-de51-4d93-a3fe-e859e8710e35",
   "metadata": {},
   "outputs": [
    {
     "name": "stdout",
     "output_type": "stream",
     "text": [
      "Least available genres for app market (less than 2% share of the store):\n",
      "ART_AND_DESIGN :  0.624\n",
      "AUTO_AND_VEHICLES :  0.874\n",
      "BEAUTY :  0.551\n",
      "COMICS :  0.572\n",
      "DATING :  1.768\n",
      "EDUCATION :  1.103\n",
      "ENTERTAINMENT :  0.905\n",
      "EVENTS :  0.666\n",
      "FOOD_AND_DRINK :  1.165\n",
      "HOUSE_AND_HOME :  0.759\n",
      "LIBRARIES_AND_DEMO :  0.874\n",
      "PARENTING :  0.624\n",
      "WEATHER :  0.822\n",
      "VIDEO_PLAYERS :  1.695\n",
      "MAPS_AND_NAVIGATION :  1.342\n"
     ]
    }
   ],
   "source": [
    "print(\"Least available genres for app market (less than 2% share of the store):\")\n",
    "\n",
    "for cat in android_cats:\n",
    "    if android_cats[cat] < 2.0:\n",
    "        print(cat, \": \", android_cats[cat])"
   ]
  },
  {
   "cell_type": "markdown",
   "id": "b16222e3-07f3-48ab-a645-deb7e7b290c1",
   "metadata": {},
   "source": [
    "From our two selections we cross-match and recommend the following:\n",
    "- `ENTERTAINMENT`\n",
    "- `VIDEO PLAYERS`\n",
    "- `WEATHER`\n",
    "\n",
    "## Reccomendation and conclusions\n",
    "\n",
    "A weather app could be recommended based on the criteria used (high rate of install vs low availability). This appears in our recommended genres for both iOS and android. A next step would be to see if its possible to generate revenue from in-app advertising etc. This would require a deeper look into this genre and profitiability. We may also need to explore some further options from the genres available to see if there are some more profitble genres that fit our original criteria less well.\n"
   ]
  },
  {
   "cell_type": "code",
   "execution_count": null,
   "id": "26a913f4-d4d5-4982-9271-77487c9d711b",
   "metadata": {},
   "outputs": [],
   "source": []
  }
 ],
 "metadata": {
  "kernelspec": {
   "display_name": "Python [conda env:base] *",
   "language": "python",
   "name": "conda-base-py"
  },
  "language_info": {
   "codemirror_mode": {
    "name": "ipython",
    "version": 3
   },
   "file_extension": ".py",
   "mimetype": "text/x-python",
   "name": "python",
   "nbconvert_exporter": "python",
   "pygments_lexer": "ipython3",
   "version": "3.9.21"
  }
 },
 "nbformat": 4,
 "nbformat_minor": 5
}
